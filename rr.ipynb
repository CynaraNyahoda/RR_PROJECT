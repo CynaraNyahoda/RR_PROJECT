{
 "cells": [
  {
   "cell_type": "code",
   "execution_count": 1,
   "metadata": {},
   "outputs": [],
   "source": [
    "import pandas as pd\n",
    "import numpy as np\n",
    "import os\n",
    "path = os.getcwd()"
   ]
  },
  {
   "cell_type": "code",
   "execution_count": 2,
   "metadata": {},
   "outputs": [],
   "source": [
    "data = pd.read_csv('C:/Users/qehre/Desktop/RR_Project/data.csv')"
   ]
  },
  {
   "cell_type": "code",
   "execution_count": 3,
   "metadata": {},
   "outputs": [
    {
     "data": {
      "text/html": [
       "<div>\n",
       "<style scoped>\n",
       "    .dataframe tbody tr th:only-of-type {\n",
       "        vertical-align: middle;\n",
       "    }\n",
       "\n",
       "    .dataframe tbody tr th {\n",
       "        vertical-align: top;\n",
       "    }\n",
       "\n",
       "    .dataframe thead th {\n",
       "        text-align: right;\n",
       "    }\n",
       "</style>\n",
       "<table border=\"1\" class=\"dataframe\">\n",
       "  <thead>\n",
       "    <tr style=\"text-align: right;\">\n",
       "      <th></th>\n",
       "      <th>Timestamp</th>\n",
       "      <th>1. Your Gender</th>\n",
       "      <th>2. Your Age</th>\n",
       "      <th>3. Are you currently....?</th>\n",
       "      <th>4. What is your annual income?</th>\n",
       "      <th>5. How often do you visit Starbucks?</th>\n",
       "      <th>6. How do you usually enjoy Starbucks?</th>\n",
       "      <th>7. How much time do you normally  spend during your visit?</th>\n",
       "      <th>8. The nearest Starbucks's outlet to you is...?</th>\n",
       "      <th>9. Do you have Starbucks membership card?</th>\n",
       "      <th>...</th>\n",
       "      <th>11. On average, how much would you spend at Starbucks per visit?</th>\n",
       "      <th>12. How would you rate the quality of Starbucks compared to other brands (Coffee Bean, Old Town White Coffee..) to be:</th>\n",
       "      <th>13. How would you rate the price range at Starbucks?</th>\n",
       "      <th>14. How important are sales and promotions in your purchase decision?</th>\n",
       "      <th>15. How would you rate the ambiance at Starbucks? (lighting, music, etc...)</th>\n",
       "      <th>16. You rate the WiFi quality at Starbucks as..</th>\n",
       "      <th>17. How would you rate the service at Starbucks? (Promptness, friendliness, etc..)</th>\n",
       "      <th>18. How likely you will choose Starbucks for doing business meetings or hangout with friends?</th>\n",
       "      <th>19. How do you come to hear of promotions at Starbucks? Check all that apply.</th>\n",
       "      <th>20. Will you continue buying at Starbucks?</th>\n",
       "    </tr>\n",
       "  </thead>\n",
       "  <tbody>\n",
       "    <tr>\n",
       "      <th>0</th>\n",
       "      <td>2019/10/01 12:38:43 PM GMT+8</td>\n",
       "      <td>Female</td>\n",
       "      <td>From 20 to 29</td>\n",
       "      <td>Student</td>\n",
       "      <td>Less than RM25,000</td>\n",
       "      <td>Rarely</td>\n",
       "      <td>Dine in</td>\n",
       "      <td>Between 30 minutes to 1 hour</td>\n",
       "      <td>within 1km</td>\n",
       "      <td>Yes</td>\n",
       "      <td>...</td>\n",
       "      <td>Less than RM20</td>\n",
       "      <td>4</td>\n",
       "      <td>3</td>\n",
       "      <td>5</td>\n",
       "      <td>5</td>\n",
       "      <td>4</td>\n",
       "      <td>4</td>\n",
       "      <td>3</td>\n",
       "      <td>Starbucks Website/Apps;Social Media;Emails;Dea...</td>\n",
       "      <td>Yes</td>\n",
       "    </tr>\n",
       "    <tr>\n",
       "      <th>1</th>\n",
       "      <td>2019/10/01 12:38:54 PM GMT+8</td>\n",
       "      <td>Female</td>\n",
       "      <td>From 20 to 29</td>\n",
       "      <td>Student</td>\n",
       "      <td>Less than RM25,000</td>\n",
       "      <td>Rarely</td>\n",
       "      <td>Take away</td>\n",
       "      <td>Below 30 minutes</td>\n",
       "      <td>1km - 3km</td>\n",
       "      <td>Yes</td>\n",
       "      <td>...</td>\n",
       "      <td>Less than RM20</td>\n",
       "      <td>4</td>\n",
       "      <td>3</td>\n",
       "      <td>4</td>\n",
       "      <td>4</td>\n",
       "      <td>4</td>\n",
       "      <td>5</td>\n",
       "      <td>2</td>\n",
       "      <td>Social Media;In Store displays</td>\n",
       "      <td>Yes</td>\n",
       "    </tr>\n",
       "    <tr>\n",
       "      <th>2</th>\n",
       "      <td>2019/10/01 12:38:56 PM GMT+8</td>\n",
       "      <td>Male</td>\n",
       "      <td>From 20 to 29</td>\n",
       "      <td>Employed</td>\n",
       "      <td>Less than RM25,000</td>\n",
       "      <td>Monthly</td>\n",
       "      <td>Dine in</td>\n",
       "      <td>Between 30 minutes to 1 hour</td>\n",
       "      <td>more than 3km</td>\n",
       "      <td>Yes</td>\n",
       "      <td>...</td>\n",
       "      <td>Less than RM20</td>\n",
       "      <td>4</td>\n",
       "      <td>3</td>\n",
       "      <td>4</td>\n",
       "      <td>4</td>\n",
       "      <td>4</td>\n",
       "      <td>4</td>\n",
       "      <td>3</td>\n",
       "      <td>In Store displays;Billboards</td>\n",
       "      <td>Yes</td>\n",
       "    </tr>\n",
       "    <tr>\n",
       "      <th>3</th>\n",
       "      <td>2019/10/01 12:39:08 PM GMT+8</td>\n",
       "      <td>Female</td>\n",
       "      <td>From 20 to 29</td>\n",
       "      <td>Student</td>\n",
       "      <td>Less than RM25,000</td>\n",
       "      <td>Rarely</td>\n",
       "      <td>Take away</td>\n",
       "      <td>Below 30 minutes</td>\n",
       "      <td>more than 3km</td>\n",
       "      <td>No</td>\n",
       "      <td>...</td>\n",
       "      <td>Less than RM20</td>\n",
       "      <td>2</td>\n",
       "      <td>1</td>\n",
       "      <td>4</td>\n",
       "      <td>3</td>\n",
       "      <td>3</td>\n",
       "      <td>3</td>\n",
       "      <td>3</td>\n",
       "      <td>Through friends and word of mouth</td>\n",
       "      <td>No</td>\n",
       "    </tr>\n",
       "    <tr>\n",
       "      <th>4</th>\n",
       "      <td>2019/10/01 12:39:20 PM GMT+8</td>\n",
       "      <td>Male</td>\n",
       "      <td>From 20 to 29</td>\n",
       "      <td>Student</td>\n",
       "      <td>Less than RM25,000</td>\n",
       "      <td>Monthly</td>\n",
       "      <td>Take away</td>\n",
       "      <td>Between 30 minutes to 1 hour</td>\n",
       "      <td>1km - 3km</td>\n",
       "      <td>No</td>\n",
       "      <td>...</td>\n",
       "      <td>Around RM20 - RM40</td>\n",
       "      <td>3</td>\n",
       "      <td>3</td>\n",
       "      <td>4</td>\n",
       "      <td>2</td>\n",
       "      <td>2</td>\n",
       "      <td>3</td>\n",
       "      <td>3</td>\n",
       "      <td>Starbucks Website/Apps;Social Media</td>\n",
       "      <td>Yes</td>\n",
       "    </tr>\n",
       "  </tbody>\n",
       "</table>\n",
       "<p>5 rows × 21 columns</p>\n",
       "</div>"
      ],
      "text/plain": [
       "                      Timestamp 1. Your Gender    2. Your Age  \\\n",
       "0  2019/10/01 12:38:43 PM GMT+8         Female  From 20 to 29   \n",
       "1  2019/10/01 12:38:54 PM GMT+8         Female  From 20 to 29   \n",
       "2  2019/10/01 12:38:56 PM GMT+8           Male  From 20 to 29   \n",
       "3  2019/10/01 12:39:08 PM GMT+8         Female  From 20 to 29   \n",
       "4  2019/10/01 12:39:20 PM GMT+8           Male  From 20 to 29   \n",
       "\n",
       "  3. Are you currently....? 4. What is your annual income?  \\\n",
       "0                   Student             Less than RM25,000   \n",
       "1                   Student             Less than RM25,000   \n",
       "2                  Employed             Less than RM25,000   \n",
       "3                   Student             Less than RM25,000   \n",
       "4                   Student             Less than RM25,000   \n",
       "\n",
       "  5. How often do you visit Starbucks? 6. How do you usually enjoy Starbucks?  \\\n",
       "0                               Rarely                                Dine in   \n",
       "1                               Rarely                              Take away   \n",
       "2                              Monthly                                Dine in   \n",
       "3                               Rarely                              Take away   \n",
       "4                              Monthly                              Take away   \n",
       "\n",
       "  7. How much time do you normally  spend during your visit?  \\\n",
       "0                       Between 30 minutes to 1 hour           \n",
       "1                                   Below 30 minutes           \n",
       "2                       Between 30 minutes to 1 hour           \n",
       "3                                   Below 30 minutes           \n",
       "4                       Between 30 minutes to 1 hour           \n",
       "\n",
       "  8. The nearest Starbucks's outlet to you is...?  \\\n",
       "0                                      within 1km   \n",
       "1                                       1km - 3km   \n",
       "2                                   more than 3km   \n",
       "3                                   more than 3km   \n",
       "4                                       1km - 3km   \n",
       "\n",
       "  9. Do you have Starbucks membership card?  ...  \\\n",
       "0                                       Yes  ...   \n",
       "1                                       Yes  ...   \n",
       "2                                       Yes  ...   \n",
       "3                                        No  ...   \n",
       "4                                        No  ...   \n",
       "\n",
       "  11. On average, how much would you spend at Starbucks per visit?  \\\n",
       "0                                     Less than RM20                 \n",
       "1                                     Less than RM20                 \n",
       "2                                     Less than RM20                 \n",
       "3                                     Less than RM20                 \n",
       "4                                 Around RM20 - RM40                 \n",
       "\n",
       "  12. How would you rate the quality of Starbucks compared to other brands (Coffee Bean, Old Town White Coffee..) to be:  \\\n",
       "0                                                  4                                                                       \n",
       "1                                                  4                                                                       \n",
       "2                                                  4                                                                       \n",
       "3                                                  2                                                                       \n",
       "4                                                  3                                                                       \n",
       "\n",
       "   13. How would you rate the price range at Starbucks?  \\\n",
       "0                                                  3      \n",
       "1                                                  3      \n",
       "2                                                  3      \n",
       "3                                                  1      \n",
       "4                                                  3      \n",
       "\n",
       "   14. How important are sales and promotions in your purchase decision?  \\\n",
       "0                                                  5                       \n",
       "1                                                  4                       \n",
       "2                                                  4                       \n",
       "3                                                  4                       \n",
       "4                                                  4                       \n",
       "\n",
       "   15. How would you rate the ambiance at Starbucks? (lighting, music, etc...)  \\\n",
       "0                                                  5                             \n",
       "1                                                  4                             \n",
       "2                                                  4                             \n",
       "3                                                  3                             \n",
       "4                                                  2                             \n",
       "\n",
       "   16. You rate the WiFi quality at Starbucks as..  \\\n",
       "0                                                4   \n",
       "1                                                4   \n",
       "2                                                4   \n",
       "3                                                3   \n",
       "4                                                2   \n",
       "\n",
       "   17. How would you rate the service at Starbucks? (Promptness, friendliness, etc..)  \\\n",
       "0                                                  4                                    \n",
       "1                                                  5                                    \n",
       "2                                                  4                                    \n",
       "3                                                  3                                    \n",
       "4                                                  3                                    \n",
       "\n",
       "   18. How likely you will choose Starbucks for doing business meetings or hangout with friends?  \\\n",
       "0                                                  3                                               \n",
       "1                                                  2                                               \n",
       "2                                                  3                                               \n",
       "3                                                  3                                               \n",
       "4                                                  3                                               \n",
       "\n",
       "   19. How do you come to hear of promotions at Starbucks? Check all that apply.  \\\n",
       "0  Starbucks Website/Apps;Social Media;Emails;Dea...                               \n",
       "1                     Social Media;In Store displays                               \n",
       "2                       In Store displays;Billboards                               \n",
       "3                  Through friends and word of mouth                               \n",
       "4                Starbucks Website/Apps;Social Media                               \n",
       "\n",
       "  20. Will you continue buying at Starbucks?  \n",
       "0                                        Yes  \n",
       "1                                        Yes  \n",
       "2                                        Yes  \n",
       "3                                         No  \n",
       "4                                        Yes  \n",
       "\n",
       "[5 rows x 21 columns]"
      ]
     },
     "execution_count": 3,
     "metadata": {},
     "output_type": "execute_result"
    }
   ],
   "source": [
    "data.head()"
   ]
  },
  {
   "cell_type": "code",
   "execution_count": 4,
   "metadata": {},
   "outputs": [
    {
     "name": "stdout",
     "output_type": "stream",
     "text": [
      "<class 'pandas.core.frame.DataFrame'>\n",
      "RangeIndex: 122 entries, 0 to 121\n",
      "Data columns (total 21 columns):\n",
      " #   Column                                                                                                                  Non-Null Count  Dtype \n",
      "---  ------                                                                                                                  --------------  ----- \n",
      " 0   Timestamp                                                                                                               122 non-null    object\n",
      " 1   1. Your Gender                                                                                                          122 non-null    object\n",
      " 2   2. Your Age                                                                                                             122 non-null    object\n",
      " 3   3. Are you currently....?                                                                                               122 non-null    object\n",
      " 4   4. What is your annual income?                                                                                          122 non-null    object\n",
      " 5   5. How often do you visit Starbucks?                                                                                    122 non-null    object\n",
      " 6   6. How do you usually enjoy Starbucks?                                                                                  121 non-null    object\n",
      " 7   7. How much time do you normally  spend during your visit?                                                              122 non-null    object\n",
      " 8   8. The nearest Starbucks's outlet to you is...?                                                                         122 non-null    object\n",
      " 9   9. Do you have Starbucks membership card?                                                                               122 non-null    object\n",
      " 10  10. What do you most frequently purchase at Starbucks?                                                                  122 non-null    object\n",
      " 11  11. On average, how much would you spend at Starbucks per visit?                                                        122 non-null    object\n",
      " 12  12. How would you rate the quality of Starbucks compared to other brands (Coffee Bean, Old Town White Coffee..) to be:  122 non-null    int64 \n",
      " 13  13. How would you rate the price range at Starbucks?                                                                    122 non-null    int64 \n",
      " 14  14. How important are sales and promotions in your purchase decision?                                                   122 non-null    int64 \n",
      " 15  15. How would you rate the ambiance at Starbucks? (lighting, music, etc...)                                             122 non-null    int64 \n",
      " 16  16. You rate the WiFi quality at Starbucks as..                                                                         122 non-null    int64 \n",
      " 17  17. How would you rate the service at Starbucks? (Promptness, friendliness, etc..)                                      122 non-null    int64 \n",
      " 18  18. How likely you will choose Starbucks for doing business meetings or hangout with friends?                           122 non-null    int64 \n",
      " 19  19. How do you come to hear of promotions at Starbucks? Check all that apply.                                           121 non-null    object\n",
      " 20  20. Will you continue buying at Starbucks?                                                                              122 non-null    object\n",
      "dtypes: int64(7), object(14)\n",
      "memory usage: 20.1+ KB\n"
     ]
    }
   ],
   "source": [
    "data.info()"
   ]
  },
  {
   "cell_type": "code",
   "execution_count": 5,
   "metadata": {},
   "outputs": [
    {
     "data": {
      "text/plain": [
       "Female    65\n",
       "Male      57\n",
       "Name: 1. Your Gender, dtype: int64"
      ]
     },
     "execution_count": 5,
     "metadata": {},
     "output_type": "execute_result"
    }
   ],
   "source": [
    "data['1. Your Gender'].value_counts()"
   ]
  },
  {
   "cell_type": "code",
   "execution_count": 10,
   "metadata": {},
   "outputs": [
    {
     "data": {
      "text/plain": [
       "Yes    94\n",
       "No     28\n",
       "Name: 20. Will you continue buying at Starbucks?, dtype: int64"
      ]
     },
     "execution_count": 10,
     "metadata": {},
     "output_type": "execute_result"
    }
   ],
   "source": [
    "data[''].value_counts()"
   ]
  },
  {
   "cell_type": "code",
   "execution_count": 11,
   "metadata": {},
   "outputs": [
    {
     "data": {
      "text/plain": [
       "From 20 to 29    85\n",
       "From 30 to 39    17\n",
       "Below 20         13\n",
       "40 and above      7\n",
       "Name: 2. Your Age, dtype: int64"
      ]
     },
     "execution_count": 11,
     "metadata": {},
     "output_type": "execute_result"
    }
   ],
   "source": [
    "data['2. Your Age'].value_counts()"
   ]
  },
  {
   "cell_type": "code",
   "execution_count": 12,
   "metadata": {},
   "outputs": [
    {
     "data": {
      "text/plain": [
       "Employed         61\n",
       "Student          42\n",
       "Self-employed    17\n",
       "Housewife         2\n",
       "Name: 3. Are you currently....?, dtype: int64"
      ]
     },
     "execution_count": 12,
     "metadata": {},
     "output_type": "execute_result"
    }
   ],
   "source": [
    "data['3. Are you currently....?'].value_counts()"
   ]
  },
  {
   "cell_type": "code",
   "execution_count": 13,
   "metadata": {},
   "outputs": [
    {
     "data": {
      "text/plain": [
       "Less than RM25,000       71\n",
       "RM25,000 - RM50,000      25\n",
       "RM50,000 - RM100,000     17\n",
       "More than RM150,000       6\n",
       "RM100,000 - RM150,000     3\n",
       "Name: 4. What is your annual income?, dtype: int64"
      ]
     },
     "execution_count": 13,
     "metadata": {},
     "output_type": "execute_result"
    }
   ],
   "source": [
    "data['4. What is your annual income?'].value_counts()"
   ]
  },
  {
   "cell_type": "code",
   "execution_count": 14,
   "metadata": {},
   "outputs": [
    {
     "data": {
      "text/plain": [
       "Rarely     76\n",
       "Monthly    26\n",
       "Weekly      9\n",
       "Never       9\n",
       "Daily       2\n",
       "Name: 5. How often do you visit Starbucks?, dtype: int64"
      ]
     },
     "execution_count": 14,
     "metadata": {},
     "output_type": "execute_result"
    }
   ],
   "source": [
    "data['5. How often do you visit Starbucks?'].value_counts()"
   ]
  },
  {
   "cell_type": "code",
   "execution_count": 15,
   "metadata": {},
   "outputs": [
    {
     "data": {
      "text/plain": [
       "Below 30 minutes                73\n",
       "Between 30 minutes to 1 hour    34\n",
       "Between 1 hour to 2 hours       12\n",
       "More than 3 hours                2\n",
       "Between 2 hours to 3 hours       1\n",
       "Name: 7. How much time do you normally  spend during your visit?, dtype: int64"
      ]
     },
     "execution_count": 15,
     "metadata": {},
     "output_type": "execute_result"
    }
   ],
   "source": [
    "data['7. How much time do you normally  spend during your visit?'].value_counts()"
   ]
  },
  {
   "cell_type": "code",
   "execution_count": 20,
   "metadata": {},
   "outputs": [
    {
     "data": {
      "text/plain": [
       "more than 3km    61\n",
       "1km - 3km        34\n",
       "within 1km       27\n",
       "Name: 8. The nearest Starbucks's outlet to you is...?, dtype: int64"
      ]
     },
     "execution_count": 20,
     "metadata": {},
     "output_type": "execute_result"
    }
   ],
   "source": [
    "data[\"8. The nearest Starbucks's outlet to you is...?\"].value_counts()"
   ]
  },
  {
   "cell_type": "code",
   "execution_count": 21,
   "metadata": {},
   "outputs": [
    {
     "data": {
      "text/plain": [
       "No     62\n",
       "Yes    60\n",
       "Name: 9. Do you have Starbucks membership card?, dtype: int64"
      ]
     },
     "execution_count": 21,
     "metadata": {},
     "output_type": "execute_result"
    }
   ],
   "source": [
    "data['9. Do you have Starbucks membership card?'].value_counts()"
   ]
  },
  {
   "cell_type": "code",
   "execution_count": 22,
   "metadata": {},
   "outputs": [
    {
     "data": {
      "text/plain": [
       "Coffee                                           65\n",
       "Cold drinks                                      25\n",
       "Coffee;Cold drinks                                6\n",
       "Coffee;Pastries                                   6\n",
       "Coffee;Sandwiches                                 3\n",
       "Cold drinks;Juices;Pastries                       2\n",
       "Pastries                                          2\n",
       "Jaws chip                                         1\n",
       "Nothing                                           1\n",
       "never                                             1\n",
       "Cold drinks;Never                                 1\n",
       "cake                                              1\n",
       "Coffee;Cold drinks;Pastries;Sandwiches            1\n",
       "Never buy any                                     1\n",
       "Never                                             1\n",
       "Cold drinks;Pastries                              1\n",
       "Coffee;Pastries;Sandwiches                        1\n",
       "Coffee;Juices;Pastries;Sandwiches                 1\n",
       "Cold drinks;Pastries;Sandwiches                   1\n",
       "Coffee;Cold drinks;Juices;Pastries;Sandwiches     1\n",
       "Name: 10. What do you most frequently purchase at Starbucks?, dtype: int64"
      ]
     },
     "execution_count": 22,
     "metadata": {},
     "output_type": "execute_result"
    }
   ],
   "source": [
    "data['10. What do you most frequently purchase at Starbucks?'].value_counts()"
   ]
  },
  {
   "cell_type": "code",
   "execution_count": 23,
   "metadata": {},
   "outputs": [
    {
     "data": {
      "text/plain": [
       "Less than RM20        58\n",
       "Around RM20 - RM40    45\n",
       "Zero                  12\n",
       "More than RM40         7\n",
       "Name: 11. On average, how much would you spend at Starbucks per visit?, dtype: int64"
      ]
     },
     "execution_count": 23,
     "metadata": {},
     "output_type": "execute_result"
    }
   ],
   "source": [
    "data['11. On average, how much would you spend at Starbucks per visit?'].value_counts()"
   ]
  },
  {
   "cell_type": "code",
   "execution_count": 24,
   "metadata": {},
   "outputs": [
    {
     "data": {
      "text/plain": [
       "4    49\n",
       "3    39\n",
       "5    23\n",
       "2     8\n",
       "1     3\n",
       "Name: 12. How would you rate the quality of Starbucks compared to other brands (Coffee Bean, Old Town White Coffee..) to be:, dtype: int64"
      ]
     },
     "execution_count": 24,
     "metadata": {},
     "output_type": "execute_result"
    }
   ],
   "source": [
    "data['12. How would you rate the quality of Starbucks compared to other brands (Coffee Bean, Old Town White Coffee..) to be:'].value_counts()"
   ]
  },
  {
   "cell_type": "code",
   "execution_count": 25,
   "metadata": {},
   "outputs": [
    {
     "data": {
      "text/plain": [
       "3    48\n",
       "2    27\n",
       "4    24\n",
       "1    14\n",
       "5     9\n",
       "Name: 13. How would you rate the price range at Starbucks?, dtype: int64"
      ]
     },
     "execution_count": 25,
     "metadata": {},
     "output_type": "execute_result"
    }
   ],
   "source": [
    "data['13. How would you rate the price range at Starbucks?'].value_counts()"
   ]
  },
  {
   "cell_type": "code",
   "execution_count": 26,
   "metadata": {},
   "outputs": [
    {
     "data": {
      "text/plain": [
       "4    42\n",
       "5    37\n",
       "3    30\n",
       "2     7\n",
       "1     6\n",
       "Name: 14. How important are sales and promotions in your purchase decision?, dtype: int64"
      ]
     },
     "execution_count": 26,
     "metadata": {},
     "output_type": "execute_result"
    }
   ],
   "source": [
    "data['14. How important are sales and promotions in your purchase decision?'].value_counts()"
   ]
  },
  {
   "cell_type": "code",
   "execution_count": 27,
   "metadata": {},
   "outputs": [
    {
     "data": {
      "text/plain": [
       "4    52\n",
       "3    35\n",
       "5    26\n",
       "2     6\n",
       "1     3\n",
       "Name: 15. How would you rate the ambiance at Starbucks? (lighting, music, etc...), dtype: int64"
      ]
     },
     "execution_count": 27,
     "metadata": {},
     "output_type": "execute_result"
    }
   ],
   "source": [
    "data['15. How would you rate the ambiance at Starbucks? (lighting, music, etc...)'].value_counts()"
   ]
  },
  {
   "cell_type": "code",
   "execution_count": 28,
   "metadata": {},
   "outputs": [
    {
     "data": {
      "text/plain": [
       "3    54\n",
       "4    38\n",
       "2    13\n",
       "5    10\n",
       "1     7\n",
       "Name: 16. You rate the WiFi quality at Starbucks as.., dtype: int64"
      ]
     },
     "execution_count": 28,
     "metadata": {},
     "output_type": "execute_result"
    }
   ],
   "source": [
    "data['16. You rate the WiFi quality at Starbucks as..'].value_counts()"
   ]
  },
  {
   "cell_type": "code",
   "execution_count": 29,
   "metadata": {},
   "outputs": [
    {
     "data": {
      "text/plain": [
       "4    51\n",
       "3    43\n",
       "5    23\n",
       "2     4\n",
       "1     1\n",
       "Name: 17. How would you rate the service at Starbucks? (Promptness, friendliness, etc..), dtype: int64"
      ]
     },
     "execution_count": 29,
     "metadata": {},
     "output_type": "execute_result"
    }
   ],
   "source": [
    "data['17. How would you rate the service at Starbucks? (Promptness, friendliness, etc..)'].value_counts()"
   ]
  },
  {
   "cell_type": "code",
   "execution_count": 30,
   "metadata": {},
   "outputs": [
    {
     "data": {
      "text/plain": [
       "4    42\n",
       "3    39\n",
       "5    22\n",
       "2    15\n",
       "1     4\n",
       "Name: 18. How likely you will choose Starbucks for doing business meetings or hangout with friends?, dtype: int64"
      ]
     },
     "execution_count": 30,
     "metadata": {},
     "output_type": "execute_result"
    }
   ],
   "source": [
    "data['18. How likely you will choose Starbucks for doing business meetings or hangout with friends?'].value_counts()"
   ]
  },
  {
   "cell_type": "code",
   "execution_count": 31,
   "metadata": {},
   "outputs": [
    {
     "data": {
      "text/plain": [
       "Social Media                                                                                                                                   31\n",
       "Social Media;Through friends and word of mouth                                                                                                 14\n",
       "Through friends and word of mouth                                                                                                               9\n",
       "Starbucks Website/Apps;Social Media                                                                                                             9\n",
       "In Store displays                                                                                                                               7\n",
       "Starbucks Website/Apps;Social Media;Emails;Through friends and word of mouth                                                                    6\n",
       "Starbucks Website/Apps;Social Media;Through friends and word of mouth                                                                           6\n",
       "Starbucks Website/Apps                                                                                                                          6\n",
       "Social Media;Through friends and word of mouth;In Store displays;Billboards                                                                     3\n",
       "Social Media;In Store displays                                                                                                                  3\n",
       "Social Media;Emails                                                                                                                             3\n",
       "Starbucks Website/Apps;Emails                                                                                                                   2\n",
       "Social Media;Through friends and word of mouth;Billboards                                                                                       2\n",
       "Emails                                                                                                                                          2\n",
       "Social Media;Through friends and word of mouth;In Store displays                                                                                2\n",
       "Social Media;Deal sites (fave, iprice, etc...)                                                                                                  1\n",
       "Never hear                                                                                                                                      1\n",
       "Social Media;Emails;Through friends and word of mouth                                                                                           1\n",
       "Billboards                                                                                                                                      1\n",
       "Social Media;Deal sites (fave, iprice, etc...);Through friends and word of mouth                                                                1\n",
       "Starbucks Website/Apps;Deal sites (fave, iprice, etc...)                                                                                        1\n",
       "Starbucks Website/Apps;Social Media;Emails;Deal sites (fave, iprice, etc...)                                                                    1\n",
       "Application offer                                                                                                                               1\n",
       "Starbucks Website/Apps;Social Media;Deal sites (fave, iprice, etc...);Through friends and word of mouth                                         1\n",
       "Social Media;Emails;Deal sites (fave, iprice, etc...);Through friends and word of mouth;In Store displays;Billboards                            1\n",
       "Starbucks Website/Apps;Social Media;Emails;Billboards                                                                                           1\n",
       "Starbucks Website/Apps;Social Media;Through friends and word of mouth;In Store displays                                                         1\n",
       "Social Media;In Store displays;Billboards                                                                                                       1\n",
       "Through friends and word of mouth;In Store displays                                                                                             1\n",
       "In Store displays;Billboards                                                                                                                    1\n",
       "Starbucks Website/Apps;Social Media;Emails;Deal sites (fave, iprice, etc...);Through friends and word of mouth;In Store displays;Billboards     1\n",
       "Name: 19. How do you come to hear of promotions at Starbucks? Check all that apply., dtype: int64"
      ]
     },
     "execution_count": 31,
     "metadata": {},
     "output_type": "execute_result"
    }
   ],
   "source": [
    "data['19. How do you come to hear of promotions at Starbucks? Check all that apply.'].value_counts()"
   ]
  },
  {
   "cell_type": "code",
   "execution_count": 32,
   "metadata": {},
   "outputs": [
    {
     "data": {
      "text/plain": [
       "Yes    94\n",
       "No     28\n",
       "Name: 20. Will you continue buying at Starbucks?, dtype: int64"
      ]
     },
     "execution_count": 32,
     "metadata": {},
     "output_type": "execute_result"
    }
   ],
   "source": [
    "data['20. Will you continue buying at Starbucks?'].value_counts()"
   ]
  },
  {
   "cell_type": "code",
   "execution_count": null,
   "metadata": {},
   "outputs": [],
   "source": []
  },
  {
   "cell_type": "code",
   "execution_count": null,
   "metadata": {},
   "outputs": [],
   "source": []
  }
 ],
 "metadata": {
  "kernelspec": {
   "display_name": "Python 3",
   "language": "python",
   "name": "python3"
  },
  "language_info": {
   "codemirror_mode": {
    "name": "ipython",
    "version": 3
   },
   "file_extension": ".py",
   "mimetype": "text/x-python",
   "name": "python",
   "nbconvert_exporter": "python",
   "pygments_lexer": "ipython3",
   "version": "3.8.5"
  }
 },
 "nbformat": 4,
 "nbformat_minor": 4
}
